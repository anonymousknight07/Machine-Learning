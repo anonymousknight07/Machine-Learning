{
 "cells": [
  {
   "cell_type": "code",
   "execution_count": 20,
   "metadata": {},
   "outputs": [],
   "source": [
    "import numpy as np\n",
    "from sklearn.linear_model import LinearRegression\n",
    "\n",
    "# Load training data\n",
    "train_data = np.loadtxt('data.csv', delimiter=',')\n",
    "X_train = train_data[:,[0,1,2,3,4,5,6,7,8,9]]  # Features\n",
    "Y_train = train_data[:, 10]   # Target variable\n",
    "\n",
    "# Train Linear Regression model\n",
    "alg1 = LinearRegression()\n",
    "alg1.fit(X_train, Y_train)\n",
    "\n",
    "test_data=np.loadtxt('test.csv',delimiter=',')\n",
    "\n",
    "X_predict=alg1.predict(test_data)\n",
    "np.savetxt(\"predictions.csv\",X_predict)\n"
   ]
  }
 ],
 "metadata": {
  "kernelspec": {
   "display_name": "Python 3",
   "language": "python",
   "name": "python3"
  },
  "language_info": {
   "codemirror_mode": {
    "name": "ipython",
    "version": 3
   },
   "file_extension": ".py",
   "mimetype": "text/x-python",
   "name": "python",
   "nbconvert_exporter": "python",
   "pygments_lexer": "ipython3",
   "version": "3.10.7"
  }
 },
 "nbformat": 4,
 "nbformat_minor": 2
}
